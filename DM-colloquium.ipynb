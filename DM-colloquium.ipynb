{
 "cells": [
  {
   "cell_type": "code",
   "execution_count": 1,
   "id": "e9e7b822",
   "metadata": {
    "scrolled": true
   },
   "outputs": [
    {
     "name": "stdout",
     "output_type": "stream",
     "text": [
      "Алгоритм Терри\n"
     ]
    },
    {
     "ename": "KeyboardInterrupt",
     "evalue": "Interrupted by user",
     "output_type": "error",
     "traceback": [
      "\u001b[1;31m---------------------------------------------------------------------------\u001b[0m",
      "\u001b[1;31mKeyboardInterrupt\u001b[0m                         Traceback (most recent call last)",
      "Cell \u001b[1;32mIn[1], line 6\u001b[0m\n\u001b[0;32m      4\u001b[0m \u001b[38;5;66;03m# АЛГОРИТМ ТЕРРИ\u001b[39;00m\n\u001b[0;32m      5\u001b[0m \u001b[38;5;28mprint\u001b[39m(\u001b[38;5;124m\"\u001b[39m\u001b[38;5;124mАлгоритм Терри\u001b[39m\u001b[38;5;124m\"\u001b[39m)\n\u001b[1;32m----> 6\u001b[0m max_letter \u001b[38;5;241m=\u001b[39m \u001b[38;5;28mstr\u001b[39m(\u001b[38;5;28;43minput\u001b[39;49m\u001b[43m(\u001b[49m\u001b[38;5;124;43m\"\u001b[39;49m\u001b[38;5;124;43mВведите максимальную букву в графе: \u001b[39;49m\u001b[38;5;124;43m\"\u001b[39;49m\u001b[43m)\u001b[49m)\n\u001b[0;32m      7\u001b[0m graph \u001b[38;5;241m=\u001b[39m [\u001b[38;5;28mset\u001b[39m() \u001b[38;5;28;01mfor\u001b[39;00m i \u001b[38;5;129;01min\u001b[39;00m \u001b[38;5;28mrange\u001b[39m(\u001b[38;5;28mord\u001b[39m(\u001b[38;5;124m'\u001b[39m\u001b[38;5;124mA\u001b[39m\u001b[38;5;124m'\u001b[39m), \u001b[38;5;28mord\u001b[39m(max_letter) \u001b[38;5;241m+\u001b[39m \u001b[38;5;241m1\u001b[39m)]\n\u001b[0;32m      8\u001b[0m \u001b[38;5;66;03m#print(ord(max_letter))\u001b[39;00m\n",
      "File \u001b[1;32mC:\\ProgramData\\anaconda3\\lib\\site-packages\\ipykernel\\kernelbase.py:1175\u001b[0m, in \u001b[0;36mKernel.raw_input\u001b[1;34m(self, prompt)\u001b[0m\n\u001b[0;32m   1171\u001b[0m \u001b[38;5;28;01mif\u001b[39;00m \u001b[38;5;129;01mnot\u001b[39;00m \u001b[38;5;28mself\u001b[39m\u001b[38;5;241m.\u001b[39m_allow_stdin:\n\u001b[0;32m   1172\u001b[0m     \u001b[38;5;28;01mraise\u001b[39;00m StdinNotImplementedError(\n\u001b[0;32m   1173\u001b[0m         \u001b[38;5;124m\"\u001b[39m\u001b[38;5;124mraw_input was called, but this frontend does not support input requests.\u001b[39m\u001b[38;5;124m\"\u001b[39m\n\u001b[0;32m   1174\u001b[0m     )\n\u001b[1;32m-> 1175\u001b[0m \u001b[38;5;28;01mreturn\u001b[39;00m \u001b[38;5;28;43mself\u001b[39;49m\u001b[38;5;241;43m.\u001b[39;49m\u001b[43m_input_request\u001b[49m\u001b[43m(\u001b[49m\n\u001b[0;32m   1176\u001b[0m \u001b[43m    \u001b[49m\u001b[38;5;28;43mstr\u001b[39;49m\u001b[43m(\u001b[49m\u001b[43mprompt\u001b[49m\u001b[43m)\u001b[49m\u001b[43m,\u001b[49m\n\u001b[0;32m   1177\u001b[0m \u001b[43m    \u001b[49m\u001b[38;5;28;43mself\u001b[39;49m\u001b[38;5;241;43m.\u001b[39;49m\u001b[43m_parent_ident\u001b[49m\u001b[43m[\u001b[49m\u001b[38;5;124;43m\"\u001b[39;49m\u001b[38;5;124;43mshell\u001b[39;49m\u001b[38;5;124;43m\"\u001b[39;49m\u001b[43m]\u001b[49m\u001b[43m,\u001b[49m\n\u001b[0;32m   1178\u001b[0m \u001b[43m    \u001b[49m\u001b[38;5;28;43mself\u001b[39;49m\u001b[38;5;241;43m.\u001b[39;49m\u001b[43mget_parent\u001b[49m\u001b[43m(\u001b[49m\u001b[38;5;124;43m\"\u001b[39;49m\u001b[38;5;124;43mshell\u001b[39;49m\u001b[38;5;124;43m\"\u001b[39;49m\u001b[43m)\u001b[49m\u001b[43m,\u001b[49m\n\u001b[0;32m   1179\u001b[0m \u001b[43m    \u001b[49m\u001b[43mpassword\u001b[49m\u001b[38;5;241;43m=\u001b[39;49m\u001b[38;5;28;43;01mFalse\u001b[39;49;00m\u001b[43m,\u001b[49m\n\u001b[0;32m   1180\u001b[0m \u001b[43m\u001b[49m\u001b[43m)\u001b[49m\n",
      "File \u001b[1;32mC:\\ProgramData\\anaconda3\\lib\\site-packages\\ipykernel\\kernelbase.py:1217\u001b[0m, in \u001b[0;36mKernel._input_request\u001b[1;34m(self, prompt, ident, parent, password)\u001b[0m\n\u001b[0;32m   1214\u001b[0m             \u001b[38;5;28;01mbreak\u001b[39;00m\n\u001b[0;32m   1215\u001b[0m \u001b[38;5;28;01mexcept\u001b[39;00m \u001b[38;5;167;01mKeyboardInterrupt\u001b[39;00m:\n\u001b[0;32m   1216\u001b[0m     \u001b[38;5;66;03m# re-raise KeyboardInterrupt, to truncate traceback\u001b[39;00m\n\u001b[1;32m-> 1217\u001b[0m     \u001b[38;5;28;01mraise\u001b[39;00m \u001b[38;5;167;01mKeyboardInterrupt\u001b[39;00m(\u001b[38;5;124m\"\u001b[39m\u001b[38;5;124mInterrupted by user\u001b[39m\u001b[38;5;124m\"\u001b[39m) \u001b[38;5;28;01mfrom\u001b[39;00m \u001b[38;5;28mNone\u001b[39m\n\u001b[0;32m   1218\u001b[0m \u001b[38;5;28;01mexcept\u001b[39;00m \u001b[38;5;167;01mException\u001b[39;00m:\n\u001b[0;32m   1219\u001b[0m     \u001b[38;5;28mself\u001b[39m\u001b[38;5;241m.\u001b[39mlog\u001b[38;5;241m.\u001b[39mwarning(\u001b[38;5;124m\"\u001b[39m\u001b[38;5;124mInvalid Message:\u001b[39m\u001b[38;5;124m\"\u001b[39m, exc_info\u001b[38;5;241m=\u001b[39m\u001b[38;5;28;01mTrue\u001b[39;00m)\n",
      "\u001b[1;31mKeyboardInterrupt\u001b[0m: Interrupted by user"
     ]
    }
   ],
   "source": [
    "# АЛГОРИТМ ТЕРРИ (НЕДОДЕЛАН!)\n",
    "import sys\n",
    "import time\n",
    "sys.setrecursionlimit(10000)\n",
    "print(\"Алгоритм Терри\")\n",
    "max_letter = str(input(\"Введите максимальную букву в графе: \"))\n",
    "graph = [set() for i in range(ord('A'), ord(max_letter) + 1)]\n",
    "#print(ord(max_letter))\n",
    "print(\"Введите все вершины, соединенные с текущей (уже известные пути выводятся):\")\n",
    "for i in range(ord('A'), ord(max_letter) + 1):\n",
    "    vertexes = str(sorted(list(graph[i - ord('A')]))).replace(', ', ' ').replace('[', '').replace(']', '').replace(\"'\", '')\n",
    "    current_input = input(\"%c: %a \" % (chr(i), vertexes)).split()\n",
    "    for j in current_input:\n",
    "        graph[i - ord('A')].add(j)\n",
    "        graph[ord(j) - ord('A')].add(chr(i))\n",
    "'''\n",
    "for i in graph:\n",
    "    i = sorted(i)\n",
    "    print(i)\n",
    "'''\n",
    "curr = 'A'\n",
    "\n",
    "for i in range(len(graph)):\n",
    "    #print(graph[i])\n",
    "    graph[i] = [sorted(list(graph[i])), []]\n",
    "    #print(graph[i])\n",
    "#print(*graph)\n",
    "glob_ans = ''\n",
    "def search(vertex, ans):\n",
    "    ans += vertex + '-'\n",
    "    print(vertex)\n",
    "    print(ans)\n",
    "    print(graph[ord(vertex) - ord('A')])\n",
    "    for i in graph[ord(vertex) - ord('A')][0]:\n",
    "        if len(graph[ord(i) - ord('A')][0]) > 0 and vertex in graph[ord(i) - ord('A')][0]:\n",
    "            graph[ord(i) - ord('A')][0].remove(vertex)\n",
    "        graph[ord(i) - ord('A')][1].append(vertex)\n",
    "        if len(graph[ord(vertex) - ord('A')][0]) > 0 and i in graph[ord(vertex) - ord('A')][0]:\n",
    "            graph[ord(vertex) - ord('A')][0].remove(i)\n",
    "            search(i, ans)\n",
    "        time.sleep(0.1)\n",
    "    for i in graph[ord(vertex) - ord('A')][1]:\n",
    "        if len(graph[ord(i) - ord('A')][1]) > 0 and i in graph[ord(i) - ord('A')][1]:\n",
    "            graph[ord(i) - ord('A')][1].remove(i)\n",
    "            search(i, ans)\n",
    "        time.sleep(0.1)\n",
    "search('A', \"\")"
   ]
  },
  {
   "cell_type": "code",
   "execution_count": 27,
   "id": "e88a1822",
   "metadata": {
    "scrolled": true
   },
   "outputs": [
    {
     "name": "stdout",
     "output_type": "stream",
     "text": [
      "Введите количество вершин: 7\n",
      "Введите матрицу графа:\n",
      "0 0 0 1 0 1 0\n",
      "1 0 1 0 1 0 1\n",
      "0 1 0 1 1 1 0\n",
      "1 0 0 0 1 0 0\n",
      "1 0 1 1 0 1 0\n",
      "0 0 0 1 1 0 0\n",
      "1 0 1 0 1 1 0\n",
      "Фронты волны:\n",
      "Fw_ 0 (v1):  1\n",
      "Fw_ 1 (v1):  4 6\n",
      "Fw_ 2 (v1):  5\n",
      "Fw_ 3 (v1):  3\n",
      "Fw_ 4 (v1):  2\n",
      "Fw_ 5 (v1):  7\n",
      "Минимальные пути - по картинке\n"
     ]
    }
   ],
   "source": [
    "# ФРОНТ ВОЛНЫ\n",
    "n = int(input(\"Введите количество вершин: \"))\n",
    "print(\"Введите матрицу графа:\")\n",
    "M = [[] for j in range(n)]\n",
    "for i in range(n):\n",
    "    M[i] = [int(j) for j in input().split()]\n",
    "    #print(M[i])\n",
    "fw_n = 0\n",
    "Fw = [[] for i in range(n)]\n",
    "min_path = [[] for i in range(n)]\n",
    "Fw[fw_n].append(1)\n",
    "s = set(range(2, n + 1))\n",
    "def search(k):\n",
    "    #s.remove(k)\n",
    "    for i in range(len(M[k - 1])):\n",
    "        if M[k-1][i] == 1 and i + 1 in s:\n",
    "            Fw[fw_n + 1].append(i + 1)\n",
    "            s.remove(i + 1)\n",
    "for i in range(len(Fw)):\n",
    "    for j in range(len(Fw[i])):\n",
    "        search(Fw[i][j])\n",
    "    fw_n+=1\n",
    "for i in Fw:\n",
    "    i.sort()\n",
    "print(\"Фронты волны:\")\n",
    "for i in range(len(Fw)):\n",
    "    if (len(Fw[i])) > 0:\n",
    "        print(\"Fw_\", i, \"(v1): \", *Fw[i])\n",
    "print(\"Минимальный путь от вершины v_1 до v_7 - по появившейся картинке\")"
   ]
  },
  {
   "cell_type": "code",
   "execution_count": 59,
   "id": "61ee0936",
   "metadata": {
    "scrolled": true
   },
   "outputs": [
    {
     "name": "stdout",
     "output_type": "stream",
     "text": [
      "Введите количество вершин: 6\n",
      "Введите матрицу графа (вместо знака бесконечности пишите *):\n",
      "* * * 8 6 *\n",
      "* * 2 6 5 2\n",
      "* 3 * 2 * 8\n",
      "5 7 2 * * 9\n",
      "1 8 * 1 * *\n",
      "* 4 * * * *\n",
      "Итоговая матрица: \n",
      "[0, 0, 0, 0, 0, 0]\n",
      "['*', '*', 14, 13, 12, 12]\n",
      "['*', '*', 10, 9, 9, 9]\n",
      "['*', 8, 7, 7, 7, 7]\n",
      "['*', 6, 6, 6, 6, 6]\n",
      "['*', '*', 17, 16, 15, 14]\n",
      "Количество дуг в минимальном пути из v1 в v6:  5\n"
     ]
    }
   ],
   "source": [
    "import math\n",
    "# АЛГОРИТМ ФОРДА-БЕЛЛМАНА\n",
    "n = int(input(\"Введите количество вершин: \"))\n",
    "print(\"Введите матрицу графа (вместо знака бесконечности пишите *):\")\n",
    "M = [[] for j in range(n)]\n",
    "for i in range(n):\n",
    "    M[i] = [j for j in input().split()]\n",
    "    for j in range(len(M[i])):\n",
    "        if M[i][j] == '*':\n",
    "            M[i][j] = math.inf\n",
    "        else:\n",
    "            M[i][j] = int(M[i][j])\n",
    "#print(*M)\n",
    "result = [[0 for j in range(n)] for i in range(n)]\n",
    "for i in range(1, n):\n",
    "    result[i][0] = math.inf\n",
    "for i in range(1, n):\n",
    "    result[i][1] = M[0][i]\n",
    "#for i in range(len(M)):\n",
    "    #print(*result[i])\n",
    "for j in range(2, n):\n",
    "    for i in range(1, n):\n",
    "        res = math.inf\n",
    "        for k in range(n):\n",
    "            #print(i, j, k, result[k][j-1], M[k][i])\n",
    "            res = min(res, result[k][j-1]+M[k][i])\n",
    "        result[i][j] = res\n",
    "print(\"Итоговая матрица: \")\n",
    "for i in range(len(result)):\n",
    "    for j in range(len(result[i])):\n",
    "        if result[i][j] == math.inf:\n",
    "            result[i][j] = '*'\n",
    "for i in range(len(result)):\n",
    "    print(result[i])\n",
    "for i in range(len(result)):\n",
    "    for j in range(len(result[i])):\n",
    "        if result[i][j] == '*':\n",
    "            result[i][j] = math.inf\n",
    "# reversed minimal path from v1 to v6\n",
    "min_edges = 1e5\n",
    "for i in range(len(result[n - 1]) - 1, 0, -1):\n",
    "    if result[n-1][i] != min(result[n-1]):\n",
    "        min_edges = i + 1\n",
    "        break\n",
    "print(\"Количество дуг в минимальном пути из v1 в v6: \", min_edges)"
   ]
  },
  {
   "cell_type": "code",
   "execution_count": null,
   "id": "98209ab0",
   "metadata": {},
   "outputs": [],
   "source": []
  },
  {
   "cell_type": "code",
   "execution_count": null,
   "id": "00a80d38",
   "metadata": {},
   "outputs": [],
   "source": []
  }
 ],
 "metadata": {
  "kernelspec": {
   "display_name": "Python 3 (ipykernel)",
   "language": "python",
   "name": "python3"
  },
  "language_info": {
   "codemirror_mode": {
    "name": "ipython",
    "version": 3
   },
   "file_extension": ".py",
   "mimetype": "text/x-python",
   "name": "python",
   "nbconvert_exporter": "python",
   "pygments_lexer": "ipython3",
   "version": "3.10.9"
  }
 },
 "nbformat": 4,
 "nbformat_minor": 5
}
